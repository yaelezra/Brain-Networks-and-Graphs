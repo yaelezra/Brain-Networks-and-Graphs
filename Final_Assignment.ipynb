{
  "nbformat": 4,
  "nbformat_minor": 0,
  "metadata": {
    "colab": {
      "name": "Final Assignment.ipynb",
      "provenance": [],
      "collapsed_sections": []
    },
    "kernelspec": {
      "name": "python3",
      "display_name": "Python 3"
    },
    "language_info": {
      "name": "python"
    }
  },
  "cells": [
    {
      "cell_type": "code",
      "execution_count": 520,
      "metadata": {
        "colab": {
          "base_uri": "https://localhost:8080/"
        },
        "id": "yvh6lHR8aobk",
        "outputId": "55dd8edd-008b-486b-d829-863cfea508b6"
      },
      "outputs": [
        {
          "output_type": "stream",
          "name": "stdout",
          "text": [
            "Mounted at /content/drive\n"
          ]
        }
      ],
      "source": [
        "# first, give colab access to your drive\n",
        "from google.colab import drive\n",
        "drive_path = '/content/drive'\n",
        "drive.mount(drive_path, force_remount=True)"
      ]
    },
    {
      "cell_type": "code",
      "source": [
        "# define path of folder in drive \n",
        "\n",
        "folder_path = drive_path+'/My Drive/Final assignment /'"
      ],
      "metadata": {
        "id": "llD9Y0Llbeec"
      },
      "execution_count": 521,
      "outputs": []
    },
    {
      "cell_type": "code",
      "source": [
        "# install nedded libraries\n",
        "!pip install networkx"
      ],
      "metadata": {
        "colab": {
          "base_uri": "https://localhost:8080/"
        },
        "id": "DdfxQpLAkQu0",
        "outputId": "cf72769d-639e-4b5d-ad64-071680ee67ca"
      },
      "execution_count": 522,
      "outputs": [
        {
          "output_type": "stream",
          "name": "stdout",
          "text": [
            "Looking in indexes: https://pypi.org/simple, https://us-python.pkg.dev/colab-wheels/public/simple/\n",
            "Requirement already satisfied: networkx in /usr/local/lib/python3.7/dist-packages (2.6.3)\n"
          ]
        }
      ]
    },
    {
      "cell_type": "code",
      "source": [
        "# import needed libraries \n",
        "import numpy as np\n",
        "import networkx as nx\n",
        "import matplotlib.pyplot as plt"
      ],
      "metadata": {
        "id": "Va94F1JVbxFd"
      },
      "execution_count": 523,
      "outputs": []
    },
    {
      "cell_type": "code",
      "source": [
        "# load functional connectivity matrix \n",
        "mat = np.load(folder_path+'functional_mat.npy')\n",
        "labels = np.load(folder_path+'func_labels.npy')"
      ],
      "metadata": {
        "id": "5BSDjjq6blX8"
      },
      "execution_count": 524,
      "outputs": []
    },
    {
      "cell_type": "code",
      "source": [
        "# create a graph object \n",
        "graph = nx.from_numpy_matrix(mat)"
      ],
      "metadata": {
        "id": "AoLft3hjj7RT"
      },
      "execution_count": 525,
      "outputs": []
    },
    {
      "cell_type": "code",
      "source": [
        "# remove self loops \n",
        "graph.remove_edges_from(nx.selfloop_edges(graph))"
      ],
      "metadata": {
        "id": "b_oeO65jcAmE"
      },
      "execution_count": 526,
      "outputs": []
    },
    {
      "cell_type": "code",
      "source": [
        "print(nx.is_directed(graph))\n",
        "print(nx.is_weighted(graph))\n",
        "\n"
      ],
      "metadata": {
        "colab": {
          "base_uri": "https://localhost:8080/"
        },
        "id": "Sjx3ypNtYPcd",
        "outputId": "4ae9b11f-4aa9-40dd-eec7-228124965336"
      },
      "execution_count": 527,
      "outputs": [
        {
          "output_type": "stream",
          "name": "stdout",
          "text": [
            "False\n",
            "True\n"
          ]
        }
      ]
    },
    {
      "cell_type": "markdown",
      "source": [
        "# 1. Node degree"
      ],
      "metadata": {
        "id": "hIfjpl1zlNHD"
      }
    },
    {
      "cell_type": "code",
      "source": [
        "# camputing the node degree\n",
        "nodes_degree=list(graph.degree)\n"
      ],
      "metadata": {
        "id": "CbCwioYIlbUg"
      },
      "execution_count": 528,
      "outputs": []
    },
    {
      "cell_type": "code",
      "source": [
        "# plot degree distribution \n",
        "degrees = [x[1] for x in nodes_degree]\n",
        "\n",
        "counts, bins_edges = np.histogram(degrees, bins=63)\n",
        "cumsum_counts = np.cumsum(counts[::-1])\n",
        "cumsum_counts = np.append(cumsum_counts[::-1], 0)\n",
        "\n",
        "plt.plot(bins_edges, cumsum_counts)\n",
        "plt.xlabel('k')\n",
        "plt.ylabel('degree > k')\n",
        "plt.title('Degree Distribution')\n",
        "plt.show()"
      ],
      "metadata": {
        "colab": {
          "base_uri": "https://localhost:8080/",
          "height": 295
        },
        "id": "JFjdIuDel4SY",
        "outputId": "1dfeab61-ac65-4c62-d179-63897c2f1ffb"
      },
      "execution_count": 529,
      "outputs": [
        {
          "output_type": "display_data",
          "data": {
            "text/plain": [
              "<Figure size 432x288 with 1 Axes>"
            ],
            "image/png": "[encoded data removed]"
          },
          "metadata": {
            "needs_background": "light"
          }
        }
      ]
    },
    {
      "cell_type": "markdown",
      "source": [
        "# 2. Centrality Measure"
      ],
      "metadata": {
        "id": "kNARgl9pzHMo"
      }
    },
    {
      "cell_type": "code",
      "source": [
        "# compute closeness centrality \n",
        "cc = nx.closeness_centrality(graph)\n",
        "\n",
        "cc_values=cc.values()\n",
        "plt.hist(cc_values)\n",
        "plt.xlabel('closeness centrality')\n",
        "plt.ylabel('count')\n",
        "plt.title('Histogram of closeness Centrality')\n",
        "plt.show()"
      ],
      "metadata": {
        "colab": {
          "base_uri": "https://localhost:8080/",
          "height": 295
        },
        "id": "mfJ-tv6lF46f",
        "outputId": "0c138411-92a7-4b64-ec30-a33e372d3bd4"
      },
      "execution_count": 530,
      "outputs": [
        {
          "output_type": "display_data",
          "data": {
            "text/plain": [
              "<Figure size 432x288 with 1 Axes>"
            ],
            "image/png": "[encoded data removed]"
          },
          "metadata": {
            "needs_background": "light"
          }
        }
      ]
    },
    {
      "cell_type": "markdown",
      "source": [
        "# 3. Rich Club"
      ],
      "metadata": {
        "id": "pF7Msi4FZQ5k"
      }
    },
    {
      "cell_type": "code",
      "source": [
        "# calculate rich club coefficient\n",
        "\n",
        "rc = nx.rich_club_coefficient(graph)"
      ],
      "metadata": {
        "id": "Dw6Xy3yoZQkW"
      },
      "execution_count": 531,
      "outputs": []
    },
    {
      "cell_type": "code",
      "source": [
        "# plot\n",
        "\n",
        "degrees=rc.keys()\n",
        "coeffs=rc.values()\n",
        "\n",
        "plt.plot(list(degrees), list(coeffs), '-or')\n",
        "plt.xlabel('rich club level (degree k>x)')\n",
        "plt.ylabel('coefficient')\n",
        "plt.title('Rich Club Coefficient')\n",
        "plt.show()"
      ],
      "metadata": {
        "colab": {
          "base_uri": "https://localhost:8080/",
          "height": 295
        },
        "id": "OfQtV1G5e4cr",
        "outputId": "1a22a102-8ddf-4436-f86d-da6ce21ee1a0"
      },
      "execution_count": 532,
      "outputs": [
        {
          "output_type": "display_data",
          "data": {
            "text/plain": [
              "<Figure size 432x288 with 1 Axes>"
            ],
            "image/png": "[encoded data removed]"
          },
          "metadata": {
            "needs_background": "light"
          }
        }
      ]
    },
    {
      "cell_type": "markdown",
      "source": [
        "# 4. Segregatin vs integration"
      ],
      "metadata": {
        "id": "k_SxCmE5ss8V"
      }
    },
    {
      "cell_type": "code",
      "source": [
        "# segregation \n",
        "clustering_coeffs=nx.clustering(graph)\n",
        "clustering_coeffs=list(clustering_coeffs.values())"
      ],
      "metadata": {
        "id": "Nej1R8qJssJx"
      },
      "execution_count": 533,
      "outputs": []
    },
    {
      "cell_type": "code",
      "source": [
        "# plot clustering coefficient vs degree \n",
        "\n",
        "degrees_list=nx.degree(graph)\n",
        "degrees_list= list(degrees_list)\n",
        "degrees=[x[1] for x in degrees_list]\n",
        "\n",
        "indices=np.argsort(degrees)\n",
        "clustering_new_coeffs=[clustering_coeffs[i] for i in indices]\n",
        "\n",
        "plt.plot(np.sort(degrees), clustering_new_coeffs)\n",
        "plt.xlabel('degree')\n",
        "plt.ylabel('clustering coefficient')\n",
        "plt.title('clustering coefficient vs degree')\n",
        "plt.show()\n"
      ],
      "metadata": {
        "colab": {
          "base_uri": "https://localhost:8080/",
          "height": 295
        },
        "id": "nJeBr3oG088F",
        "outputId": "7b4271df-56e6-4492-9424-69a990581ea3"
      },
      "execution_count": 534,
      "outputs": [
        {
          "output_type": "display_data",
          "data": {
            "text/plain": [
              "<Figure size 432x288 with 1 Axes>"
            ],
            "image/png": "[encoded data removed]"
          },
          "metadata": {
            "needs_background": "light"
          }
        }
      ]
    },
    {
      "cell_type": "code",
      "source": [
        "np.mean(clustering_new_coeffs)"
      ],
      "metadata": {
        "colab": {
          "base_uri": "https://localhost:8080/"
        },
        "id": "bDp15vDZSj9S",
        "outputId": "ff4d125d-f4e4-4ae9-9892-98d773b3fd13"
      },
      "execution_count": 535,
      "outputs": [
        {
          "output_type": "execute_result",
          "data": {
            "text/plain": [
              "0.5950960055433995"
            ]
          },
          "metadata": {},
          "execution_count": 535
        }
      ]
    },
    {
      "cell_type": "code",
      "source": [
        "# integration \n",
        "shortest_paths=dict(nx.shortest_path_length(graph))"
      ],
      "metadata": {
        "id": "mF8y-mM3zTWv"
      },
      "execution_count": 536,
      "outputs": []
    },
    {
      "cell_type": "code",
      "source": [
        "# plotting average shortest path for each node, according to degrees\n",
        "\n",
        "av_paths=[]\n",
        "# looping over number of nodes\n",
        "for n in range(0,len(degrees)-1): \n",
        "  shortest=shortest_paths[n]\n",
        "  path_vals=list(shortest.values())\n",
        "  path_vals.pop(n)\n",
        "  av_paths.append(np.mean(path_vals))\n",
        "\n",
        "\n",
        "# plotting\n",
        "plt.bar(range(0,len(degrees)-1), av_paths)\n",
        "plt.xlabel('node')\n",
        "plt.ylabel('averaged shortest path length')\n",
        "plt.title('Averaged Shortest Path Length For Each Node')\n",
        "plt.show()"
      ],
      "metadata": {
        "colab": {
          "base_uri": "https://localhost:8080/",
          "height": 295
        },
        "id": "pKwQSYSKzfTP",
        "outputId": "2ba71630-79cd-4d92-c345-6aa68f8c9e88"
      },
      "execution_count": 537,
      "outputs": [
        {
          "output_type": "display_data",
          "data": {
            "text/plain": [
              "<Figure size 432x288 with 1 Axes>"
            ],
            "image/png": "[encoded data removed]"
          },
          "metadata": {
            "needs_background": "light"
          }
        }
      ]
    },
    {
      "cell_type": "code",
      "source": [
        "np.mean(av_paths)"
      ],
      "metadata": {
        "colab": {
          "base_uri": "https://localhost:8080/"
        },
        "id": "3hRs_dRsTFko",
        "outputId": "c16d3c5b-3f51-4599-bc9e-46bdd254ee46"
      },
      "execution_count": 538,
      "outputs": [
        {
          "output_type": "execute_result",
          "data": {
            "text/plain": [
              "1.4754098360655739"
            ]
          },
          "metadata": {},
          "execution_count": 538
        }
      ]
    },
    {
      "cell_type": "markdown",
      "source": [
        "# 5. Removal of a Node"
      ],
      "metadata": {
        "id": "YPF4YyrzADLi"
      }
    },
    {
      "cell_type": "code",
      "source": [
        "graph = nx.from_numpy_matrix(mat)"
      ],
      "metadata": {
        "id": "8ddeZsu8JBoZ"
      },
      "execution_count": 539,
      "outputs": []
    },
    {
      "cell_type": "code",
      "source": [
        "# finding the node with the highest centrality (based on degree) value\n",
        "dc=nx.degree_centrality(graph)\n",
        "dc_vals=list(dc.values())\n",
        "node_max=graph.nodes[np.argmax(dc_vals)]"
      ],
      "metadata": {
        "id": "Yx67hq3ZAJpN"
      },
      "execution_count": 540,
      "outputs": []
    },
    {
      "cell_type": "code",
      "source": [
        "# remove node_max\n",
        "graph.remove_node(59)"
      ],
      "metadata": {
        "id": "GlabwkdiIDr6"
      },
      "execution_count": 541,
      "outputs": []
    },
    {
      "cell_type": "code",
      "source": [
        "# segregation \n",
        "clustering_coeffs=nx.clustering(graph)\n",
        "clustering_coeffs=list(clustering_coeffs.values())\n",
        "\n",
        "# plot clustering coefficient vs degree \n",
        "\n",
        "degrees_list=nx.degree(graph)\n",
        "degrees_list= list(degrees_list)\n",
        "degrees=[x[1] for x in degrees_list]\n",
        "\n",
        "indices=np.argsort(degrees)\n",
        "clustering_new_coeffs=[clustering_coeffs[i] for i in indices]\n",
        "\n",
        "plt.plot(np.sort(degrees), clustering_new_coeffs)\n",
        "plt.xlabel('degree')\n",
        "plt.ylabel('clustering coefficient')\n",
        "plt.title('clustering coefficient vs degree')\n",
        "plt.show()"
      ],
      "metadata": {
        "colab": {
          "base_uri": "https://localhost:8080/",
          "height": 295
        },
        "id": "GcYTQGpNHoLs",
        "outputId": "402d92c0-be36-4b2b-aecd-0754999ed2aa"
      },
      "execution_count": 542,
      "outputs": [
        {
          "output_type": "display_data",
          "data": {
            "text/plain": [
              "<Figure size 432x288 with 1 Axes>"
            ],
            "image/png": "[encoded data removed]"
          },
          "metadata": {
            "needs_background": "light"
          }
        }
      ]
    },
    {
      "cell_type": "code",
      "source": [
        "np.mean(clustering_new_coeffs)"
      ],
      "metadata": {
        "colab": {
          "base_uri": "https://localhost:8080/"
        },
        "id": "Dfaqv3WFTwsn",
        "outputId": "9c10acd5-953c-437b-ca20-c373e3d2ad2c"
      },
      "execution_count": 543,
      "outputs": [
        {
          "output_type": "execute_result",
          "data": {
            "text/plain": [
              "0.5746206847593764"
            ]
          },
          "metadata": {},
          "execution_count": 543
        }
      ]
    },
    {
      "cell_type": "code",
      "source": [
        "# integration \n",
        "shortest_paths=dict(nx.shortest_path_length(graph))\n",
        "\n",
        "# plotting average shortest path for each node \n",
        "\n",
        "av_paths=[]\n",
        "nodes_lst=[]\n",
        "# looping over number of nodes\n",
        "for n in range(0,len(degrees)-1): \n",
        "  if n!=59: \n",
        "    nodes_lst.append(n)\n",
        "    shortest=shortest_paths[n]\n",
        "    path_vals=list(shortest.values())\n",
        "    path_vals.pop(n)\n",
        "    av_paths.append(np.mean(path_vals))\n",
        "\n",
        "# plotting\n",
        "\n",
        "plt.bar(nodes_lst, av_paths)\n",
        "plt.xlabel('node')\n",
        "plt.ylabel('averaged shortest path length')\n",
        "plt.title('Averaged Shortest Path Length For Each Node')\n",
        "plt.show()"
      ],
      "metadata": {
        "colab": {
          "base_uri": "https://localhost:8080/",
          "height": 295
        },
        "id": "f2D41h4ILWpf",
        "outputId": "5710a5d4-a3a1-4359-c538-64f05221c76c"
      },
      "execution_count": 544,
      "outputs": [
        {
          "output_type": "display_data",
          "data": {
            "text/plain": [
              "<Figure size 432x288 with 1 Axes>"
            ],
            "image/png": "[encoded data removed]"
          },
          "metadata": {
            "needs_background": "light"
          }
        }
      ]
    },
    {
      "cell_type": "code",
      "source": [
        "np.mean(av_paths)"
      ],
      "metadata": {
        "colab": {
          "base_uri": "https://localhost:8080/"
        },
        "id": "qPXkfI_cTOLK",
        "outputId": "477a0092-4c57-4662-be18-a9f983f548ba"
      },
      "execution_count": 545,
      "outputs": [
        {
          "output_type": "execute_result",
          "data": {
            "text/plain": [
              "1.4897222222222224"
            ]
          },
          "metadata": {},
          "execution_count": 545
        }
      ]
    }
  ]
}